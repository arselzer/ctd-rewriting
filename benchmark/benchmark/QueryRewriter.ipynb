{
 "cells": [
  {
   "cell_type": "code",
   "execution_count": 40,
   "id": "cc19a7bd-f217-4c8e-ac44-3338cdba5555",
   "metadata": {},
   "outputs": [
    {
     "name": "stdout",
     "output_type": "stream",
     "text": [
      "Requirement already satisfied: psycopg2-binary in /usr/local/lib/python3.10/dist-packages (2.9.9)\n"
     ]
    },
    {
     "name": "stderr",
     "output_type": "stream",
     "text": [
      "WARNING: Running pip as the 'root' user can result in broken permissions and conflicting behaviour with the system package manager. It is recommended to use a virtual environment instead: https://pip.pypa.io/warnings/venv\n"
     ]
    },
    {
     "name": "stdout",
     "output_type": "stream",
     "text": [
      "Requirement already satisfied: networkx in /usr/local/lib/python3.10/dist-packages (3.3)\n"
     ]
    },
    {
     "name": "stderr",
     "output_type": "stream",
     "text": [
      "WARNING: Running pip as the 'root' user can result in broken permissions and conflicting behaviour with the system package manager. It is recommended to use a virtual environment instead: https://pip.pypa.io/warnings/venv\n"
     ]
    },
    {
     "name": "stdout",
     "output_type": "stream",
     "text": [
      "Requirement already satisfied: colorama in /usr/local/lib/python3.10/dist-packages (0.4.6)\n"
     ]
    },
    {
     "name": "stderr",
     "output_type": "stream",
     "text": [
      "WARNING: Running pip as the 'root' user can result in broken permissions and conflicting behaviour with the system package manager. It is recommended to use a virtual environment instead: https://pip.pypa.io/warnings/venv\n"
     ]
    },
    {
     "name": "stdout",
     "output_type": "stream",
     "text": [
      "Collecting termcolor\n",
      "  Downloading termcolor-2.4.0-py3-none-any.whl (7.7 kB)\n",
      "Installing collected packages: termcolor\n",
      "Successfully installed termcolor-2.4.0\n"
     ]
    },
    {
     "name": "stderr",
     "output_type": "stream",
     "text": [
      "WARNING: Running pip as the 'root' user can result in broken permissions and conflicting behaviour with the system package manager. It is recommended to use a virtual environment instead: https://pip.pypa.io/warnings/venv\n"
     ]
    }
   ],
   "source": [
    "%%bash\n",
    "pip3 install psycopg2-binary\n",
    "pip3 install networkx\n",
    "pip3 install colorama\n",
    "pip3 install termcolor"
   ]
  },
  {
   "cell_type": "code",
   "execution_count": 45,
   "id": "22c176f2-3472-4700-b6de-0643b13812b0",
   "metadata": {},
   "outputs": [],
   "source": [
    "import subprocess\n",
    "import psycopg2\n",
    "from pathlib import Path\n",
    "import json\n",
    "import ctdPython\n",
    "from ctdPython.hypergraph import HyperGraph\n",
    "from ctdPython.ctdcheck import CTDCheck"
   ]
  },
  {
   "cell_type": "code",
   "execution_count": 47,
   "id": "ba964037-c211-464b-a57e-bc98a50de1bb",
   "metadata": {
    "scrolled": true
   },
   "outputs": [
    {
     "name": "stderr",
     "output_type": "stream",
     "text": [
      "SLF4J: No SLF4J providers were found.\n",
      "SLF4J: Defaulting to no-operation (NOP) logger implementation\n",
      "SLF4J: See https://www.slf4j.org/codes.html#noProviders for further details.\n"
     ]
    },
    {
     "name": "stdout",
     "output_type": "stream",
     "text": [
      "WARNING: sun.reflect.Reflection.getCallerClass is not supported. This will impact performance.\n"
     ]
    },
    {
     "name": "stderr",
     "output_type": "stream",
     "text": [
      "ERROR StatusLogger Log4j2 could not find a logging implementation. Please add log4j-core to the classpath. Using SimpleLogger to log to the console...\n"
     ]
    },
    {
     "name": "stdout",
     "output_type": "stream",
     "text": [
      "org.apache.calcite.jdbc.CalciteSchema$SchemaPlusImpl@771d1ffbLogicalAggregate(group=[{}], EXPR$0=[MIN($0)])\n",
      "  LogicalProject(id=[$0])\n",
      "    LogicalJoin(condition=[=($5, $29)], joinType=[inner])\n",
      "      LogicalJoin(condition=[=($5, $27)], joinType=[inner])\n",
      "        LogicalJoin(condition=[=($5, $24)], joinType=[inner])\n",
      "          LogicalJoin(condition=[=($5, $19)], joinType=[inner])\n",
      "            LogicalJoin(condition=[=($0, $13)], joinType=[inner])\n",
      "              LogicalFilter(condition=[AND(>=($6, 0), >=($8, 0))])\n",
      "                JdbcTableScan(table=[[stats, posts]])\n",
      "              LogicalFilter(condition=[=(CAST($4):INTEGER, 1)])\n",
      "                JdbcTableScan(table=[[stats, postlinks]])\n",
      "            LogicalFilter(condition=[=(CAST($1):INTEGER, 2)])\n",
      "              JdbcTableScan(table=[[stats, posthistory]])\n",
      "          LogicalFilter(condition=[>=($3, 2010-07-20 00:00:00)])\n",
      "            JdbcTableScan(table=[[stats, votes]])\n",
      "        JdbcTableScan(table=[[stats, badges]])\n",
      "      LogicalFilter(condition=[AND(>=($1, 1), >=($5, 0), <=($5, 0), <=($4, 439), <=($2, 2014-08-07 11:18:45))])\n",
      "        JdbcTableScan(table=[[stats, users]])\n",
      "\n",
      "attributes: List($0, $1, $2, $3, $4, $5, $6, $7, $8, $9, $10, $11, $12, $13, $14, $15, $16, $17, $18, $19, $20, $21, $22, $23, $24, $25, $26, $27, $28, $29, $30, $31, $32, $33, $34)\n",
      "aggAttributes: List($0)\n",
      "conditions: List(=($0, $13), =($5, $19), =($5, $24), =($5, $27), =($5, $29))\n",
      "combined equivalence classes: HashSet(HashSet($5, $24, $29, $27, $19), Set($0, $13))\n",
      "attribute to vertex mapping: HashMap($0 -> $0, $19 -> $5, $5 -> $5, $24 -> $5, $27 -> $5, $13 -> $0, $29 -> $5)\n",
      "hyperedges: HashSet(E1($0, $5), E6($5), E5($5), E3($5), E4($5), E2($0))\n",
      "All elements are present in QueryPlan$HTNode@1182413a\n",
      "nodeContaining: QueryPlan$HTNode@1182413a\n",
      "aggAttofRoot: List($0)\n",
      "query is 0MA\n",
      "new root: QueryPlan$HTNode@1182413a b: RecordType(INTEGER id, SMALLINT posttypeid, TIMESTAMP(3) creationdate, INTEGER score, INTEGER viewcount, INTEGER owneruserid, INTEGER answercount, INTEGER commentcount, INTEGER favoritecount, INTEGER lasteditoruserid)\n",
      "depth: 1\n",
      "container counts: List(1, 1, 1, 1, 1, 1, 1, 1, 1, 1, 1, 1, 1, 1, 1, 1, 1, 1, 1, 1, 1, 1, 1, 1, 1, 1, 1, 1, 2, 5)\n",
      "branching factors: List(5)\n",
      "balancedness factor: (5,List(1.0))  1.0\n",
      "TreeNode(Set(E1($0, $5)))[Set([stats, posts])] [[parent: false]]\n",
      "-- TreeNode(Set(E6($5)))[Set([stats, users])] [[parent: true]]\n",
      "\n",
      "-- TreeNode(Set(E2($0)))[Set([stats, postlinks])] [[parent: true]]\n",
      "\n",
      "-- TreeNode(Set(E5($5)))[Set(_)] [[parent: true]]\n",
      "\n",
      "-- TreeNode(Set(E4($5)))[Set([stats, votes])] [[parent: true]]\n",
      "\n",
      "-- TreeNode(Set(E3($5)))[Set([stats, posthistory])] [[parent: true]]\n",
      "\n",
      "hypergraph representation: 35 ListBuffer(List(0, 1, 2, 3, 4, 5, 6, 7, 8, 9), List(10, 11, 12, 0, 14), List(15, 16, 17, 18, 5), List(20, 21, 22, 23, 5, 25), List(26, 5, 28), List(5, 30, 31, 32, 33, 34))\n",
      "{\"original_query\":\"\\nSELECT MIN(p.Id) FROM posts as p, postLinks as pl, postHistory as ph, votes as v, badges as b, users as u WHERE p.Id = pl.RelatedPostId AND u.Id = p.OwnerUserId AND u.Id = b.UserId AND u.Id = ph.UserId AND u.Id = v.UserId AND p.AnswerCount>=0 AND p.FavoriteCount>=0 AND pl.LinkTypeId=1 AND ph.PostHistoryTypeId=2 AND v.CreationDate>=CAST('2010-07-20 00:00:00' AS TIMESTAMP) AND u.Reputation>=1 AND u.DownVotes>=0 AND u.DownVotes<=0 AND u.UpVotes<=439 AND u.CreationDate<=CAST('2014-08-07 11:18:45' AS TIMESTAMP)\\n\",\"rewritten_query\":[\"CREATE VIEW E1 AS SELECT * FROM posts AS posts WHERE posts.answercount >= 0 AND posts.favoritecount >= 0\",\"CREATE VIEW E6 AS SELECT * FROM users AS users WHERE users.reputation >= 1 AND users.downvotes >= 0 AND users.downvotes <= 0 AND users.upvotes <= 439 AND users.creationdate <= TIMESTAMP '2014-08-07 11:18:45'\",\"CREATE UNLOGGED TABLE E1E6 AS SELECT * FROM E1 WHERE EXISTS (SELECT 1 FROM E6 WHERE E1.owneruserid=E6.id)\",\"CREATE VIEW E2 AS SELECT * FROM postlinks AS postlinks WHERE CAST(postlinks.linktypeid AS INTEGER) = 1\",\"CREATE UNLOGGED TABLE E1E6E2 AS SELECT * FROM E1E6 WHERE EXISTS (SELECT 1 FROM E2 WHERE E1E6.id=E2.relatedpostid)\",\"CREATE VIEW E3 AS SELECT * FROM posthistory AS posthistory WHERE CAST(posthistory.posthistorytypeid AS INTEGER) = 2\",\"CREATE UNLOGGED TABLE E1E6E2E3 AS SELECT * FROM E1E6E2 WHERE EXISTS (SELECT 1 FROM E3 WHERE E1E6E2.owneruserid=E3.userid)\",\"CREATE VIEW E5 AS SELECT * FROM badges AS badges\",\"CREATE UNLOGGED TABLE E1E6E2E3E5 AS SELECT * FROM E1E6E2E3 WHERE EXISTS (SELECT 1 FROM E5 WHERE E1E6E2E3.owneruserid=E5.userid)\",\"CREATE VIEW E4 AS SELECT * FROM votes AS votes WHERE votes.creationdate >= TIMESTAMP '2010-07-20 00:00:00'\",\"CREATE UNLOGGED TABLE E1E6E2E3E5E4 AS SELECT MIN(id) AS EXPR$0 FROM E1E6E2E3E5 WHERE EXISTS (SELECT 1 FROM E4 WHERE E1E6E2E3E5.owneruserid=E4.userid)\",\"SELECT * FROM E1E6E2E3E5E4\"],\"features\":\"List(1, List(1, 1, 1, 1, 1, 1, 1, 1, 1, 1, 1, 1, 1, 1, 1, 1, 1, 1, 1, 1, 1, 1, 1, 1, 1, 1, 1, 1, 2, 5), List(5), 1.0)\",\"time\":2.78262488}\n",
      "0\n",
      "hg: E1($5,$0)\n",
      "E2($0)\n",
      "E3($5)\n",
      "E4($5)\n",
      "E5($5)\n",
      "E6($5)\n",
      "\n",
      "ctd: <ctdPython.ctdcheck.CTDCheck object at 0x7d84d1f37b20>\n",
      "<__main__.Rewriting object at 0x7d84d1f36170>\n"
     ]
    }
   ],
   "source": [
    "REWRITE_JAR = 'rewrite-assembly-0.1.0-SNAPSHOT.jar'\n",
    "\n",
    "class Rewriting:\n",
    "    def __init__(self, original, rewritten, features, time, drop_statements):\n",
    "        self.original = original\n",
    "        self.rewritten = rewritten\n",
    "        self.features = features\n",
    "        self.time = time\n",
    "        self.drop_statements = drop_statements\n",
    "\n",
    "class QueryRewriter:\n",
    "    def __init__(self, host, database, user, password, port=5432):\n",
    "        self.host = host\n",
    "        self.database = database\n",
    "        self.user = user\n",
    "        self.password = password\n",
    "        self.port = port\n",
    "        self.jdbcString = f'jdbc:postgresql://{self.host}:{self.port}/{self.database}'\n",
    "\n",
    "    def rewrite(self, query):\n",
    "        rewriteProcess = subprocess.run(['java', '-jar', REWRITE_JAR, query,\n",
    "                                         self.jdbcString, self.database, self.user, self.password])\n",
    "        print(rewriteProcess.returncode)\n",
    "        if (rewriteProcess.returncode != 0):\n",
    "            print(f'Error calling {rewriteProcess}')\n",
    "            return None\n",
    "\n",
    "        output = json.loads(Path('output/output.json').read_text())\n",
    "        drop_output = json.loads(Path('output/drop.json').read_text())\n",
    "\n",
    "        result = Rewriting(query, output['rewritten_query'], output['features'], output['time'],\n",
    "                           drop_output['rewritten_query'])\n",
    "\n",
    "        hg = HyperGraph.fromHyperbench('output/hypergraph.txt')\n",
    "        print('hg: ' + str(hg))\n",
    "        ctd = CTDCheck(hg)\n",
    "        print('ctd: ' + str(ctd))\n",
    "        return result\n",
    "\n",
    "query = \"\"\"\n",
    "SELECT MIN(p.Id) FROM posts as p, postLinks as pl, postHistory as ph, votes as v, badges as b, users as u WHERE p.Id = pl.RelatedPostId AND u.Id = p.OwnerUserId AND u.Id = b.UserId AND u.Id = ph.UserId AND u.Id = v.UserId AND p.AnswerCount>=0 AND p.FavoriteCount>=0 AND pl.LinkTypeId=1 AND ph.PostHistoryTypeId=2 AND v.CreationDate>=CAST('2010-07-20 00:00:00' AS TIMESTAMP) AND u.Reputation>=1 AND u.DownVotes>=0 AND u.DownVotes<=0 AND u.UpVotes<=439 AND u.CreationDate<=CAST('2014-08-07 11:18:45' AS TIMESTAMP)\n",
    "\"\"\"\n",
    "\n",
    "rewriter = QueryRewriter('postgres', 'stats', 'stats', 'stats')\n",
    "\n",
    "result = rewriter.rewrite(query)\n",
    "print(result)"
   ]
  },
  {
   "cell_type": "code",
   "execution_count": null,
   "id": "f599c40e-4177-44fd-b2ae-ba341a58dc17",
   "metadata": {},
   "outputs": [],
   "source": [
    "def run_rewritten(query):\n",
    "    conn = psycopg2.connect(\n",
    "        host=\"postgres\",\n",
    "        database=database,\n",
    "        user=database,\n",
    "        password=database\n",
    "    )"
   ]
  }
 ],
 "metadata": {
  "kernelspec": {
   "display_name": "Python 3 (ipykernel)",
   "language": "python",
   "name": "python3"
  },
  "language_info": {
   "codemirror_mode": {
    "name": "ipython",
    "version": 3
   },
   "file_extension": ".py",
   "mimetype": "text/x-python",
   "name": "python",
   "nbconvert_exporter": "python",
   "pygments_lexer": "ipython3",
   "version": "3.10.12"
  }
 },
 "nbformat": 4,
 "nbformat_minor": 5
}
